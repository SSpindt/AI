{
 "cells": [
  {
   "cell_type": "markdown",
   "id": "20aa1d82",
   "metadata": {},
   "source": [
    "## P(brown eyed AND girl) = 25%\n",
    "## P(brown eyed AND girl) = 27%\n",
    "## P(brown eyed AND girl) = 26%\n",
    "## P(brown eyed AND girl) = 25%\n",
    "## P(brown eyed AND girl) = 12%"
   ]
  },
  {
   "cell_type": "code",
   "execution_count": 2,
   "id": "654362d7",
   "metadata": {},
   "outputs": [
    {
     "data": {
      "text/plain": [
       "0.232"
      ]
     },
     "execution_count": 2,
     "metadata": {},
     "output_type": "execute_result"
    }
   ],
   "source": [
    "import random\n",
    "trials = 1000\n",
    "count = 0\n",
    "event = 0\n",
    "while count < trials:\n",
    "    sex = random.randint(0, 1) # 0 is female, 1 is male\n",
    "    color = random.randint(0, 1) # 0 is brown, 1 is blue\n",
    "    if sex == 0 and color == 0:\n",
    "        event = event + 1\n",
    "    count += 1\n",
    "\n",
    "event / trials"
   ]
  }
 ],
 "metadata": {
  "kernelspec": {
   "display_name": "Python 3 (ipykernel)",
   "language": "python",
   "name": "python3"
  },
  "language_info": {
   "codemirror_mode": {
    "name": "ipython",
    "version": 3
   },
   "file_extension": ".py",
   "mimetype": "text/x-python",
   "name": "python",
   "nbconvert_exporter": "python",
   "pygments_lexer": "ipython3",
   "version": "3.9.13"
  }
 },
 "nbformat": 4,
 "nbformat_minor": 5
}
