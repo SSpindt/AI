{
 "cells": [
  {
   "cell_type": "markdown",
   "id": "48583253",
   "metadata": {},
   "source": [
    "# P(Hot Chip) = 0.167"
   ]
  },
  {
   "cell_type": "code",
   "execution_count": 1,
   "id": "64531377",
   "metadata": {},
   "outputs": [],
   "source": [
    "import random"
   ]
  },
  {
   "cell_type": "code",
   "execution_count": 7,
   "id": "a82adbaa",
   "metadata": {},
   "outputs": [
    {
     "name": "stdout",
     "output_type": "stream",
     "text": [
      "Empirical Probability: 0.169\n"
     ]
    }
   ],
   "source": [
    "rounds = 0\n",
    "trials = 1000\n",
    "hot_chips = 0\n",
    "while rounds < trials:\n",
    "    num = random.randint(1, 6)\n",
    "    if num == 1:\n",
    "        hot_chips += 1\n",
    "    rounds += 1\n",
    "\n",
    "print(\"Empirical Probability:\", str((hot_chips/trials)))"
   ]
  }
 ],
 "metadata": {
  "kernelspec": {
   "display_name": "Python 3 (ipykernel)",
   "language": "python",
   "name": "python3"
  },
  "language_info": {
   "codemirror_mode": {
    "name": "ipython",
    "version": 3
   },
   "file_extension": ".py",
   "mimetype": "text/x-python",
   "name": "python",
   "nbconvert_exporter": "python",
   "pygments_lexer": "ipython3",
   "version": "3.9.13"
  }
 },
 "nbformat": 4,
 "nbformat_minor": 5
}
