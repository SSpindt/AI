{
 "cells": [
  {
   "cell_type": "code",
   "execution_count": 1,
   "id": "f88eaa89",
   "metadata": {},
   "outputs": [],
   "source": [
    "import requests\n",
    "from bs4 import BeautifulSoup"
   ]
  },
  {
   "cell_type": "code",
   "execution_count": 5,
   "id": "9ea4ef34",
   "metadata": {},
   "outputs": [],
   "source": [
    "url = \"https://www.scrapethissite.com/pages/simple/\"\n",
    "response = requests.get(url)\n",
    "html_content = response.text\n",
    "soup = BeautifulSoup(html_content, \"html.parser\")"
   ]
  },
  {
   "cell_type": "code",
   "execution_count": 16,
   "id": "9265bd88",
   "metadata": {},
   "outputs": [],
   "source": [
    "h3s = soup.find_all(\"h3\")\n",
    "countries = []\n",
    "for h3 in h3s:\n",
    "    country = h3.get_text()\n",
    "    country = country.strip()\n",
    "    countries.append(country)"
   ]
  },
  {
   "cell_type": "markdown",
   "id": "b730b381",
   "metadata": {},
   "source": [
    "# P(Contains A) = 85.2%"
   ]
  },
  {
   "cell_type": "markdown",
   "id": "03a0d7e4",
   "metadata": {},
   "source": [
    "# P(Three Names Contain A) = ~62%"
   ]
  },
  {
   "cell_type": "code",
   "execution_count": null,
   "id": "c5a79ffc",
   "metadata": {},
   "outputs": [],
   "source": []
  }
 ],
 "metadata": {
  "kernelspec": {
   "display_name": "Python 3 (ipykernel)",
   "language": "python",
   "name": "python3"
  },
  "language_info": {
   "codemirror_mode": {
    "name": "ipython",
    "version": 3
   },
   "file_extension": ".py",
   "mimetype": "text/x-python",
   "name": "python",
   "nbconvert_exporter": "python",
   "pygments_lexer": "ipython3",
   "version": "3.9.13"
  }
 },
 "nbformat": 4,
 "nbformat_minor": 5
}
