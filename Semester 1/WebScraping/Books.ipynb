{
 "cells": [
  {
   "cell_type": "code",
   "execution_count": 31,
   "id": "6f37d862",
   "metadata": {},
   "outputs": [],
   "source": [
    "import requests\n",
    "from bs4 import BeautifulSoup\n",
    "import pandas as pd"
   ]
  },
  {
   "cell_type": "code",
   "execution_count": 34,
   "id": "038a21b1",
   "metadata": {},
   "outputs": [],
   "source": [
    "# Get Page 1 Data\n",
    "url = 'https://openlibrary.org/trending/forever'\n",
    "response = requests.get(url)\n",
    "soup = BeautifulSoup(response.content, \"html.parser\")\n",
    "book_info = {\"Title\": [], \"Logs\":[]}"
   ]
  },
  {
   "cell_type": "code",
   "execution_count": 38,
   "id": "e5e25799",
   "metadata": {},
   "outputs": [],
   "source": [
    "# Get Titles of Page 1 Data\n",
    "titles = soup.find_all(\"h3\", {\"class\": \"booktitle\"})\n",
    "for title in titles:\n",
    "    title = str(title.get_text().strip())\n",
    "    book_info[\"Title\"].append(title)"
   ]
  },
  {
   "cell_type": "code",
   "execution_count": 42,
   "id": "fedfc50e",
   "metadata": {},
   "outputs": [],
   "source": [
    "# Get Logs of Page 1 Data\n",
    "logs = soup.find_all(\"div\", {\"class\": \"details\"})\n",
    "log_counts = []\n",
    "for log in logs:\n",
    "    str_log = str(log)\n",
    "    split_str_log = str_log.split()\n",
    "    idx_Logged = split_str_log.index(\"Logged\")\n",
    "    log_counts.append(split_str_log[idx_Logged + 1])"
   ]
  },
  {
   "cell_type": "code",
   "execution_count": 46,
   "id": "e816bada",
   "metadata": {},
   "outputs": [
    {
     "name": "stdout",
     "output_type": "stream",
     "text": [
      "<class 'pandas.core.frame.DataFrame'>\n",
      "RangeIndex: 20 entries, 0 to 19\n",
      "Data columns (total 2 columns):\n",
      " #   Column  Non-Null Count  Dtype \n",
      "---  ------  --------------  ----- \n",
      " 0   Title   20 non-null     object\n",
      " 1   Logs    20 non-null     object\n",
      "dtypes: object(2)\n",
      "memory usage: 448.0+ bytes\n"
     ]
    }
   ],
   "source": [
    "for log in log_counts:\n",
    "    book_info[\"Logs\"].append(log)\n",
    "df = pd.DataFrame(book_info)\n",
    "df.info()"
   ]
  },
  {
   "cell_type": "markdown",
   "id": "0ff751be",
   "metadata": {},
   "source": [
    "# Marvell: What number of logs do we expect to see for a new trending book?"
   ]
  },
  {
   "cell_type": "markdown",
   "id": "df906912",
   "metadata": {},
   "source": [
    "# Caleb: What number of romance books do we expect to see published in the 2030 decade?"
   ]
  },
  {
   "cell_type": "markdown",
   "id": "bdbf3838",
   "metadata": {},
   "source": [
    "# Luis: What number of editions do we expect to see for a new trending book?"
   ]
  }
 ],
 "metadata": {
  "kernelspec": {
   "display_name": "Python 3 (ipykernel)",
   "language": "python",
   "name": "python3"
  },
  "language_info": {
   "codemirror_mode": {
    "name": "ipython",
    "version": 3
   },
   "file_extension": ".py",
   "mimetype": "text/x-python",
   "name": "python",
   "nbconvert_exporter": "python",
   "pygments_lexer": "ipython3",
   "version": "3.9.13"
  }
 },
 "nbformat": 4,
 "nbformat_minor": 5
}
