{
 "cells": [
  {
   "cell_type": "markdown",
   "id": "0247ffbd",
   "metadata": {},
   "source": [
    "# I would choose Mines because I will make 2,488,000 dollars if I graduate from Mines and I will only make 2,052,000 dollars if I graduate from Boulder. That's a difference of 436,000 dollars!"
   ]
  },
  {
   "cell_type": "code",
   "execution_count": 1,
   "id": "c00f43bf",
   "metadata": {},
   "outputs": [
    {
     "data": {
      "text/plain": [
       "436000"
      ]
     },
     "execution_count": 1,
     "metadata": {},
     "output_type": "execute_result"
    }
   ],
   "source": [
    "2488000-2052000"
   ]
  }
 ],
 "metadata": {
  "kernelspec": {
   "display_name": "Python 3 (ipykernel)",
   "language": "python",
   "name": "python3"
  },
  "language_info": {
   "codemirror_mode": {
    "name": "ipython",
    "version": 3
   },
   "file_extension": ".py",
   "mimetype": "text/x-python",
   "name": "python",
   "nbconvert_exporter": "python",
   "pygments_lexer": "ipython3",
   "version": "3.9.13"
  }
 },
 "nbformat": 4,
 "nbformat_minor": 5
}
