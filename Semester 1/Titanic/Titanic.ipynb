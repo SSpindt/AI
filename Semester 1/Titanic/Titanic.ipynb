{
 "cells": [
  {
   "cell_type": "code",
   "execution_count": 1,
   "id": "9b1669a8",
   "metadata": {},
   "outputs": [],
   "source": [
    "import pandas as pd"
   ]
  },
  {
   "cell_type": "code",
   "execution_count": 2,
   "id": "ae9e604d",
   "metadata": {},
   "outputs": [],
   "source": [
    "df = pd.read_csv(\"titanic.csv\")"
   ]
  },
  {
   "cell_type": "code",
   "execution_count": 3,
   "id": "43a5d3d4",
   "metadata": {},
   "outputs": [
    {
     "data": {
      "text/plain": [
       "Index(['PassengerId', 'Survived', 'Pclass', 'Name', 'Sex', 'Age', 'SibSp',\n",
       "       'Parch', 'Ticket', 'Fare', 'Cabin', 'Embarked'],\n",
       "      dtype='object')"
      ]
     },
     "execution_count": 3,
     "metadata": {},
     "output_type": "execute_result"
    }
   ],
   "source": [
    "df.columns"
   ]
  },
  {
   "cell_type": "code",
   "execution_count": 4,
   "id": "bf75501d",
   "metadata": {},
   "outputs": [
    {
     "data": {
      "text/plain": [
       "PassengerId                  100\n",
       "Survived                       0\n",
       "Pclass                         2\n",
       "Name           Kantor, Mr. Sinai\n",
       "Sex                         male\n",
       "Age                         34.0\n",
       "SibSp                          1\n",
       "Parch                          0\n",
       "Ticket                    244367\n",
       "Fare                        26.0\n",
       "Cabin                        NaN\n",
       "Embarked                       S\n",
       "Name: 99, dtype: object"
      ]
     },
     "execution_count": 4,
     "metadata": {},
     "output_type": "execute_result"
    }
   ],
   "source": [
    "df.loc[99]"
   ]
  },
  {
   "cell_type": "code",
   "execution_count": 5,
   "id": "5849ce40",
   "metadata": {},
   "outputs": [
    {
     "data": {
      "text/html": [
       "<div>\n",
       "<style scoped>\n",
       "    .dataframe tbody tr th:only-of-type {\n",
       "        vertical-align: middle;\n",
       "    }\n",
       "\n",
       "    .dataframe tbody tr th {\n",
       "        vertical-align: top;\n",
       "    }\n",
       "\n",
       "    .dataframe thead th {\n",
       "        text-align: right;\n",
       "    }\n",
       "</style>\n",
       "<table border=\"1\" class=\"dataframe\">\n",
       "  <thead>\n",
       "    <tr style=\"text-align: right;\">\n",
       "      <th></th>\n",
       "      <th>PassengerId</th>\n",
       "      <th>Survived</th>\n",
       "      <th>Pclass</th>\n",
       "      <th>Name</th>\n",
       "      <th>Sex</th>\n",
       "      <th>Age</th>\n",
       "      <th>SibSp</th>\n",
       "      <th>Parch</th>\n",
       "      <th>Ticket</th>\n",
       "      <th>Fare</th>\n",
       "      <th>Cabin</th>\n",
       "      <th>Embarked</th>\n",
       "    </tr>\n",
       "  </thead>\n",
       "  <tbody>\n",
       "    <tr>\n",
       "      <th>885</th>\n",
       "      <td>886</td>\n",
       "      <td>0</td>\n",
       "      <td>3</td>\n",
       "      <td>Rice, Mrs. William (Margaret Norton)</td>\n",
       "      <td>female</td>\n",
       "      <td>39.0</td>\n",
       "      <td>0</td>\n",
       "      <td>5</td>\n",
       "      <td>382652</td>\n",
       "      <td>29.125</td>\n",
       "      <td>NaN</td>\n",
       "      <td>Q</td>\n",
       "    </tr>\n",
       "    <tr>\n",
       "      <th>886</th>\n",
       "      <td>887</td>\n",
       "      <td>0</td>\n",
       "      <td>2</td>\n",
       "      <td>Montvila, Rev. Juozas</td>\n",
       "      <td>male</td>\n",
       "      <td>27.0</td>\n",
       "      <td>0</td>\n",
       "      <td>0</td>\n",
       "      <td>211536</td>\n",
       "      <td>13.000</td>\n",
       "      <td>NaN</td>\n",
       "      <td>S</td>\n",
       "    </tr>\n",
       "    <tr>\n",
       "      <th>887</th>\n",
       "      <td>888</td>\n",
       "      <td>1</td>\n",
       "      <td>1</td>\n",
       "      <td>Graham, Miss. Margaret Edith</td>\n",
       "      <td>female</td>\n",
       "      <td>19.0</td>\n",
       "      <td>0</td>\n",
       "      <td>0</td>\n",
       "      <td>112053</td>\n",
       "      <td>30.000</td>\n",
       "      <td>B42</td>\n",
       "      <td>S</td>\n",
       "    </tr>\n",
       "    <tr>\n",
       "      <th>888</th>\n",
       "      <td>889</td>\n",
       "      <td>0</td>\n",
       "      <td>3</td>\n",
       "      <td>Johnston, Miss. Catherine Helen \"Carrie\"</td>\n",
       "      <td>female</td>\n",
       "      <td>NaN</td>\n",
       "      <td>1</td>\n",
       "      <td>2</td>\n",
       "      <td>W./C. 6607</td>\n",
       "      <td>23.450</td>\n",
       "      <td>NaN</td>\n",
       "      <td>S</td>\n",
       "    </tr>\n",
       "    <tr>\n",
       "      <th>889</th>\n",
       "      <td>890</td>\n",
       "      <td>1</td>\n",
       "      <td>1</td>\n",
       "      <td>Behr, Mr. Karl Howell</td>\n",
       "      <td>male</td>\n",
       "      <td>26.0</td>\n",
       "      <td>0</td>\n",
       "      <td>0</td>\n",
       "      <td>111369</td>\n",
       "      <td>30.000</td>\n",
       "      <td>C148</td>\n",
       "      <td>C</td>\n",
       "    </tr>\n",
       "    <tr>\n",
       "      <th>890</th>\n",
       "      <td>891</td>\n",
       "      <td>0</td>\n",
       "      <td>3</td>\n",
       "      <td>Dooley, Mr. Patrick</td>\n",
       "      <td>male</td>\n",
       "      <td>32.0</td>\n",
       "      <td>0</td>\n",
       "      <td>0</td>\n",
       "      <td>370376</td>\n",
       "      <td>7.750</td>\n",
       "      <td>NaN</td>\n",
       "      <td>Q</td>\n",
       "    </tr>\n",
       "  </tbody>\n",
       "</table>\n",
       "</div>"
      ],
      "text/plain": [
       "     PassengerId  Survived  Pclass                                      Name  \\\n",
       "885          886         0       3      Rice, Mrs. William (Margaret Norton)   \n",
       "886          887         0       2                     Montvila, Rev. Juozas   \n",
       "887          888         1       1              Graham, Miss. Margaret Edith   \n",
       "888          889         0       3  Johnston, Miss. Catherine Helen \"Carrie\"   \n",
       "889          890         1       1                     Behr, Mr. Karl Howell   \n",
       "890          891         0       3                       Dooley, Mr. Patrick   \n",
       "\n",
       "        Sex   Age  SibSp  Parch      Ticket    Fare Cabin Embarked  \n",
       "885  female  39.0      0      5      382652  29.125   NaN        Q  \n",
       "886    male  27.0      0      0      211536  13.000   NaN        S  \n",
       "887  female  19.0      0      0      112053  30.000   B42        S  \n",
       "888  female   NaN      1      2  W./C. 6607  23.450   NaN        S  \n",
       "889    male  26.0      0      0      111369  30.000  C148        C  \n",
       "890    male  32.0      0      0      370376   7.750   NaN        Q  "
      ]
     },
     "execution_count": 5,
     "metadata": {},
     "output_type": "execute_result"
    }
   ],
   "source": [
    "df.tail(6)"
   ]
  },
  {
   "cell_type": "code",
   "execution_count": 6,
   "id": "42ee1ef5",
   "metadata": {},
   "outputs": [],
   "source": [
    "df.loc[5, \"Age\"] = 28"
   ]
  },
  {
   "cell_type": "code",
   "execution_count": 7,
   "id": "28f98c30",
   "metadata": {},
   "outputs": [
    {
     "data": {
      "text/plain": [
       "576"
      ]
     },
     "execution_count": 7,
     "metadata": {},
     "output_type": "execute_result"
    }
   ],
   "source": [
    "count = 0\n",
    "for person in df[\"Age\"]:\n",
    "    if person > 18:\n",
    "        count = count + 1\n",
    "count"
   ]
  },
  {
   "cell_type": "code",
   "execution_count": 8,
   "id": "8b0b0ff5",
   "metadata": {},
   "outputs": [],
   "source": [
    "count = (df[\"Age\"] > 18).sum()"
   ]
  },
  {
   "cell_type": "code",
   "execution_count": 9,
   "id": "d32496df",
   "metadata": {},
   "outputs": [
    {
     "name": "stdout",
     "output_type": "stream",
     "text": [
      "64.75869809203144\n"
     ]
    }
   ],
   "source": [
    "count = 0\n",
    "for person in df[\"Sex\"]:\n",
    "    if person == \"male\":\n",
    "        count = count + 1\n",
    "count = (count / len(df)) * 100\n",
    "count\n",
    "\n",
    "print((df[df['Sex'] == 'male'].shape[0]/len(df))*100)"
   ]
  },
  {
   "cell_type": "code",
   "execution_count": 10,
   "id": "ff7d5990",
   "metadata": {},
   "outputs": [
    {
     "data": {
      "text/plain": [
       "{'CLASS': ['First', 'Second', 'Third'], 'Frequency': [216, 184, 491]}"
      ]
     },
     "execution_count": 10,
     "metadata": {},
     "output_type": "execute_result"
    }
   ],
   "source": [
    "classes = {\"CLASS\":[], \"Frequency\":[]}\n",
    "countFirst = 0\n",
    "countSecond = 0\n",
    "countThird = 0\n",
    "for ticket in df[\"Pclass\"]:\n",
    "    if ticket == 1:\n",
    "        countFirst = countFirst + 1\n",
    "    elif ticket == 2:\n",
    "        countSecond = countSecond + 1\n",
    "    elif ticket == 3:\n",
    "        countThird = countThird + 1\n",
    "classes[\"CLASS\"].append(\"First\")\n",
    "classes[\"CLASS\"].append(\"Second\")\n",
    "classes[\"CLASS\"].append(\"Third\")\n",
    "classes[\"Frequency\"].append(countFirst)\n",
    "classes[\"Frequency\"].append(countSecond)\n",
    "classes[\"Frequency\"].append(countThird)\n",
    "classes"
   ]
  },
  {
   "cell_type": "code",
   "execution_count": 11,
   "id": "2dca6797",
   "metadata": {},
   "outputs": [],
   "source": [
    "freqTable = pd.DataFrame(classes)"
   ]
  },
  {
   "cell_type": "code",
   "execution_count": 12,
   "id": "9031519d",
   "metadata": {},
   "outputs": [],
   "source": [
    "freqTable[\"Percent\"] = (freqTable[\"Frequency\"] / len(df))*100"
   ]
  },
  {
   "cell_type": "code",
   "execution_count": 13,
   "id": "ddb4c84f",
   "metadata": {},
   "outputs": [
    {
     "data": {
      "text/html": [
       "<div>\n",
       "<style scoped>\n",
       "    .dataframe tbody tr th:only-of-type {\n",
       "        vertical-align: middle;\n",
       "    }\n",
       "\n",
       "    .dataframe tbody tr th {\n",
       "        vertical-align: top;\n",
       "    }\n",
       "\n",
       "    .dataframe thead th {\n",
       "        text-align: right;\n",
       "    }\n",
       "</style>\n",
       "<table border=\"1\" class=\"dataframe\">\n",
       "  <thead>\n",
       "    <tr style=\"text-align: right;\">\n",
       "      <th></th>\n",
       "      <th>CLASS</th>\n",
       "      <th>Frequency</th>\n",
       "      <th>Percent</th>\n",
       "    </tr>\n",
       "  </thead>\n",
       "  <tbody>\n",
       "    <tr>\n",
       "      <th>0</th>\n",
       "      <td>First</td>\n",
       "      <td>216</td>\n",
       "      <td>24.242424</td>\n",
       "    </tr>\n",
       "    <tr>\n",
       "      <th>1</th>\n",
       "      <td>Second</td>\n",
       "      <td>184</td>\n",
       "      <td>20.650954</td>\n",
       "    </tr>\n",
       "    <tr>\n",
       "      <th>2</th>\n",
       "      <td>Third</td>\n",
       "      <td>491</td>\n",
       "      <td>55.106622</td>\n",
       "    </tr>\n",
       "  </tbody>\n",
       "</table>\n",
       "</div>"
      ],
      "text/plain": [
       "    CLASS  Frequency    Percent\n",
       "0   First        216  24.242424\n",
       "1  Second        184  20.650954\n",
       "2   Third        491  55.106622"
      ]
     },
     "execution_count": 13,
     "metadata": {},
     "output_type": "execute_result"
    }
   ],
   "source": [
    "freqTable.head()"
   ]
  },
  {
   "cell_type": "code",
   "execution_count": 14,
   "id": "70885b9c",
   "metadata": {},
   "outputs": [
    {
     "data": {
      "text/html": [
       "<div>\n",
       "<style scoped>\n",
       "    .dataframe tbody tr th:only-of-type {\n",
       "        vertical-align: middle;\n",
       "    }\n",
       "\n",
       "    .dataframe tbody tr th {\n",
       "        vertical-align: top;\n",
       "    }\n",
       "\n",
       "    .dataframe thead th {\n",
       "        text-align: right;\n",
       "    }\n",
       "</style>\n",
       "<table border=\"1\" class=\"dataframe\">\n",
       "  <thead>\n",
       "    <tr style=\"text-align: right;\">\n",
       "      <th></th>\n",
       "      <th>PassengerId</th>\n",
       "      <th>Survived</th>\n",
       "      <th>Pclass</th>\n",
       "      <th>Name</th>\n",
       "      <th>Sex</th>\n",
       "      <th>Age</th>\n",
       "      <th>SibSp</th>\n",
       "      <th>Parch</th>\n",
       "      <th>Ticket</th>\n",
       "      <th>Fare</th>\n",
       "      <th>Cabin</th>\n",
       "      <th>Embarked</th>\n",
       "    </tr>\n",
       "  </thead>\n",
       "  <tbody>\n",
       "    <tr>\n",
       "      <th>527</th>\n",
       "      <td>528</td>\n",
       "      <td>0</td>\n",
       "      <td>1</td>\n",
       "      <td>Farthing, Mr. John</td>\n",
       "      <td>male</td>\n",
       "      <td>NaN</td>\n",
       "      <td>0</td>\n",
       "      <td>0</td>\n",
       "      <td>PC 17483</td>\n",
       "      <td>221.7792</td>\n",
       "      <td>C95</td>\n",
       "      <td>S</td>\n",
       "    </tr>\n",
       "  </tbody>\n",
       "</table>\n",
       "</div>"
      ],
      "text/plain": [
       "     PassengerId  Survived  Pclass                Name   Sex  Age  SibSp  \\\n",
       "527          528         0       1  Farthing, Mr. John  male  NaN      0   \n",
       "\n",
       "     Parch    Ticket      Fare Cabin Embarked  \n",
       "527      0  PC 17483  221.7792   C95        S  "
      ]
     },
     "execution_count": 14,
     "metadata": {},
     "output_type": "execute_result"
    }
   ],
   "source": [
    "df[df['PassengerId'] == 528]"
   ]
  },
  {
   "cell_type": "code",
   "execution_count": 15,
   "id": "64735f70",
   "metadata": {},
   "outputs": [
    {
     "data": {
      "text/plain": [
       "PassengerId                              707\n",
       "Survived                                   1\n",
       "Pclass                                     2\n",
       "Name           Kelly, Mrs. Florence \"Fannie\"\n",
       "Sex                                   female\n",
       "Age                                     45.0\n",
       "SibSp                                      0\n",
       "Parch                                      0\n",
       "Ticket                                223596\n",
       "Fare                                    13.5\n",
       "Cabin                                    NaN\n",
       "Embarked                                   S\n",
       "Name: 706, dtype: object"
      ]
     },
     "execution_count": 15,
     "metadata": {},
     "output_type": "execute_result"
    }
   ],
   "source": [
    "idx = 0\n",
    "for person in df[\"Name\"]:\n",
    "    if \"Fannie\" in person:\n",
    "        break\n",
    "    idx += 1\n",
    "df.loc[idx]"
   ]
  },
  {
   "cell_type": "code",
   "execution_count": 16,
   "id": "e84cf1d1",
   "metadata": {},
   "outputs": [
    {
     "name": "stdout",
     "output_type": "stream",
     "text": [
      "<class 'pandas.core.frame.DataFrame'>\n",
      "RangeIndex: 891 entries, 0 to 890\n",
      "Data columns (total 12 columns):\n",
      " #   Column       Non-Null Count  Dtype  \n",
      "---  ------       --------------  -----  \n",
      " 0   PassengerId  891 non-null    int64  \n",
      " 1   Survived     891 non-null    int64  \n",
      " 2   Pclass       891 non-null    int64  \n",
      " 3   Name         891 non-null    object \n",
      " 4   Sex          891 non-null    object \n",
      " 5   Age          715 non-null    float64\n",
      " 6   SibSp        891 non-null    int64  \n",
      " 7   Parch        891 non-null    int64  \n",
      " 8   Ticket       891 non-null    object \n",
      " 9   Fare         891 non-null    float64\n",
      " 10  Cabin        204 non-null    object \n",
      " 11  Embarked     889 non-null    object \n",
      "dtypes: float64(2), int64(5), object(5)\n",
      "memory usage: 83.7+ KB\n"
     ]
    }
   ],
   "source": [
    "df.info()"
   ]
  },
  {
   "cell_type": "code",
   "execution_count": 17,
   "id": "314db304",
   "metadata": {
    "scrolled": true
   },
   "outputs": [
    {
     "data": {
      "text/html": [
       "<div>\n",
       "<style scoped>\n",
       "    .dataframe tbody tr th:only-of-type {\n",
       "        vertical-align: middle;\n",
       "    }\n",
       "\n",
       "    .dataframe tbody tr th {\n",
       "        vertical-align: top;\n",
       "    }\n",
       "\n",
       "    .dataframe thead th {\n",
       "        text-align: right;\n",
       "    }\n",
       "</style>\n",
       "<table border=\"1\" class=\"dataframe\">\n",
       "  <thead>\n",
       "    <tr style=\"text-align: right;\">\n",
       "      <th></th>\n",
       "      <th>Male</th>\n",
       "      <th>Female</th>\n",
       "    </tr>\n",
       "  </thead>\n",
       "  <tbody>\n",
       "    <tr>\n",
       "      <th>Survived</th>\n",
       "      <td>109</td>\n",
       "      <td>233</td>\n",
       "    </tr>\n",
       "    <tr>\n",
       "      <th>Died</th>\n",
       "      <td>468</td>\n",
       "      <td>81</td>\n",
       "    </tr>\n",
       "  </tbody>\n",
       "</table>\n",
       "</div>"
      ],
      "text/plain": [
       "          Male  Female\n",
       "Survived   109     233\n",
       "Died       468      81"
      ]
     },
     "execution_count": 17,
     "metadata": {},
     "output_type": "execute_result"
    }
   ],
   "source": [
    "maleSurvive = 0\n",
    "femaleSurvive = 0\n",
    "maleDied = 0\n",
    "femaleDied = 0\n",
    "for idx in range(len(df)):\n",
    "    if df.loc[idx][\"Sex\"] == \"male\" and df.loc[idx][\"Survived\"] == 0:\n",
    "        maleDied += 1\n",
    "    elif df.loc[idx][\"Sex\"] == \"male\" and df.loc[idx][\"Survived\"] == 1:\n",
    "        maleSurvive += 1\n",
    "    elif df.loc[idx][\"Sex\"] == \"female\" and df.loc[idx][\"Survived\"] == 0:\n",
    "        femaleDied += 1\n",
    "    elif df.loc[idx][\"Sex\"] == \"female\" and df.loc[idx][\"Survived\"] == 1:\n",
    "        femaleSurvive += 1\n",
    "conTable = pd.DataFrame({\n",
    "    \"Male\": [maleSurvive, maleDied],\n",
    "    \"Female\": [femaleSurvive, femaleDied]\n",
    "})\n",
    "conTable.index = [\"Survived\", \"Died\"]\n",
    "conTable.head()"
   ]
  },
  {
   "cell_type": "code",
   "execution_count": null,
   "id": "82f7d918",
   "metadata": {},
   "outputs": [],
   "source": []
  },
  {
   "cell_type": "code",
   "execution_count": 18,
   "id": "c5f60964",
   "metadata": {},
   "outputs": [
    {
     "data": {
      "text/html": [
       "<div>\n",
       "<style scoped>\n",
       "    .dataframe tbody tr th:only-of-type {\n",
       "        vertical-align: middle;\n",
       "    }\n",
       "\n",
       "    .dataframe tbody tr th {\n",
       "        vertical-align: top;\n",
       "    }\n",
       "\n",
       "    .dataframe thead th {\n",
       "        text-align: right;\n",
       "    }\n",
       "</style>\n",
       "<table border=\"1\" class=\"dataframe\">\n",
       "  <thead>\n",
       "    <tr style=\"text-align: right;\">\n",
       "      <th></th>\n",
       "      <th>Child</th>\n",
       "      <th>Adult</th>\n",
       "      <th>Elderly</th>\n",
       "      <th>Total</th>\n",
       "    </tr>\n",
       "  </thead>\n",
       "  <tbody>\n",
       "    <tr>\n",
       "      <th>Survived</th>\n",
       "      <td>53.982301</td>\n",
       "      <td>38.541667</td>\n",
       "      <td>26.923077</td>\n",
       "      <td>40.559441</td>\n",
       "    </tr>\n",
       "    <tr>\n",
       "      <th>Died</th>\n",
       "      <td>46.017699</td>\n",
       "      <td>61.458333</td>\n",
       "      <td>73.076923</td>\n",
       "      <td>59.440559</td>\n",
       "    </tr>\n",
       "  </tbody>\n",
       "</table>\n",
       "</div>"
      ],
      "text/plain": [
       "              Child      Adult    Elderly      Total\n",
       "Survived  53.982301  38.541667  26.923077  40.559441\n",
       "Died      46.017699  61.458333  73.076923  59.440559"
      ]
     },
     "execution_count": 18,
     "metadata": {},
     "output_type": "execute_result"
    }
   ],
   "source": [
    "childSurvive = 0\n",
    "childDied = 0\n",
    "adultSurvive = 0\n",
    "adultDied = 0\n",
    "elderSurvive = 0\n",
    "elderDied = 0\n",
    "childTotal = 0\n",
    "adultTotal = 0\n",
    "elderTotal = 0\n",
    "allPeople = 0\n",
    "allPeopleSurvive = 0\n",
    "allPeopleDied = 0\n",
    "for idx in range(len(df)):\n",
    "    if df.loc[idx][\"Age\"] < 18 and df.loc[idx][\"Survived\"] == 1:\n",
    "        childSurvive += 1\n",
    "        childTotal += 1\n",
    "        allPeople += 1\n",
    "        allPeopleSurvive += 1\n",
    "    elif df.loc[idx]['Age'] < 18 and df.loc[idx][\"Survived\"] == 0:\n",
    "        childDied += 1\n",
    "        childTotal += 1\n",
    "        allPeople += 1\n",
    "        allPeopleDied += 1\n",
    "    elif df.loc[idx][\"Age\"] >= 18 and df.loc[idx][\"Age\"] < 60 and df.loc[idx][\"Survived\"] == 1:\n",
    "        adultSurvive += 1\n",
    "        adultTotal += 1\n",
    "        allPeople += 1\n",
    "        allPeopleSurvive += 1\n",
    "    elif df.loc[idx][\"Age\"] >= 18 and df.loc[idx][\"Age\"] < 60 and df.loc[idx][\"Survived\"] == 0:\n",
    "        adultDied += 1\n",
    "        adultTotal += 1\n",
    "        allPeople += 1\n",
    "        allPeopleDied += 1\n",
    "    elif df.loc[idx]['Age'] >= 60 and df.loc[idx][\"Survived\"] == 1:\n",
    "        elderSurvive += 1\n",
    "        elderTotal += 1\n",
    "        allPeople += 1\n",
    "        allPeopleSurvive += 1\n",
    "    elif df.loc[idx]['Age'] >= 60 and df.loc[idx][\"Survived\"] == 0:\n",
    "        elderDied += 1\n",
    "        elderTotal += 1\n",
    "        allPeople += 1\n",
    "        allPeopleDied += 1\n",
    "\n",
    "conTable = {\n",
    "    \"Child\": [childSurvive/childTotal *100, childDied/childTotal *100],\n",
    "    \"Adult\": [adultSurvive/adultTotal *100, adultDied/adultTotal *100],\n",
    "    \"Elderly\": [elderSurvive/elderTotal *100, elderDied/elderTotal *100],\n",
    "    \"Total\": [allPeopleSurvive/allPeople *100, allPeopleDied/allPeople*100]\n",
    "}\n",
    "df2 = pd.DataFrame(conTable)\n",
    "df2.index = [\"Survived\", \"Died\"]\n",
    "df2.head()"
   ]
  },
  {
   "cell_type": "code",
   "execution_count": 29,
   "id": "cc9e103d",
   "metadata": {},
   "outputs": [
    {
     "data": {
      "text/html": [
       "<div>\n",
       "<style scoped>\n",
       "    .dataframe tbody tr th:only-of-type {\n",
       "        vertical-align: middle;\n",
       "    }\n",
       "\n",
       "    .dataframe tbody tr th {\n",
       "        vertical-align: top;\n",
       "    }\n",
       "\n",
       "    .dataframe thead th {\n",
       "        text-align: right;\n",
       "    }\n",
       "</style>\n",
       "<table border=\"1\" class=\"dataframe\">\n",
       "  <thead>\n",
       "    <tr style=\"text-align: right;\">\n",
       "      <th></th>\n",
       "      <th>S</th>\n",
       "      <th>Q</th>\n",
       "      <th>C</th>\n",
       "      <th>U</th>\n",
       "      <th>Total</th>\n",
       "    </tr>\n",
       "  </thead>\n",
       "  <tbody>\n",
       "    <tr>\n",
       "      <th>Survived</th>\n",
       "      <td>33.695652</td>\n",
       "      <td>30</td>\n",
       "      <td>93</td>\n",
       "      <td>2</td>\n",
       "      <td>342</td>\n",
       "    </tr>\n",
       "    <tr>\n",
       "      <th>Died</th>\n",
       "      <td>427.000000</td>\n",
       "      <td>47</td>\n",
       "      <td>75</td>\n",
       "      <td>0</td>\n",
       "      <td>549</td>\n",
       "    </tr>\n",
       "    <tr>\n",
       "      <th>Total</th>\n",
       "      <td>644.000000</td>\n",
       "      <td>77</td>\n",
       "      <td>168</td>\n",
       "      <td>2</td>\n",
       "      <td>891</td>\n",
       "    </tr>\n",
       "  </tbody>\n",
       "</table>\n",
       "</div>"
      ],
      "text/plain": [
       "                   S   Q    C  U  Total\n",
       "Survived   33.695652  30   93  2    342\n",
       "Died      427.000000  47   75  0    549\n",
       "Total     644.000000  77  168  2    891"
      ]
     },
     "execution_count": 29,
     "metadata": {},
     "output_type": "execute_result"
    }
   ],
   "source": [
    "survived = {\"S\": 0, \"C\": 0, \"Q\": 0, \"U\": 0}\n",
    "died = {\"S\": 0, \"C\": 0, \"Q\": 0, \"U\": 0}\n",
    "for idx in range(len(df)):\n",
    "    city = df.loc[idx][\"Embarked\"]\n",
    "    if df.loc[idx][\"Survived\"] == 1:\n",
    "        if city in [\"S\", \"C\", \"Q\"]:\n",
    "            survived[city] += 1\n",
    "        else:\n",
    "            survived[\"U\"] += 1\n",
    "    else:\n",
    "        if city in [\"S\", \"C\", \"Q\"]:\n",
    "            died[city] += 1\n",
    "        else:\n",
    "            died[\"U\"] += 1\n",
    "conTable = {\n",
    "    \"S\": [survived[\"S\"]/(survived[\"S\"] + died[\"S\"]) * 100, died[\"S\"], survived[\"S\"] + died[\"S\"]],\n",
    "    \"Q\": [survived[\"Q\"], died[\"Q\"], survived[\"Q\"] + died[\"Q\"]],\n",
    "    \"C\": [survived[\"C\"], died[\"C\"], survived[\"C\"] + died[\"C\"]],\n",
    "    \"U\": [survived[\"U\"], died[\"U\"], survived[\"U\"] + died[\"U\"]],\n",
    "    \"Total\": [survived[\"S\"] + survived[\"Q\"] + survived[\"C\"] + survived[\"U\"],died[\"S\"] + died[\"Q\"] + died[\"C\"] + died[\"U\"],len(df)]\n",
    "}\n",
    "conTable = pd.DataFrame(conTable)\n",
    "conTable.index = [\"Survived\", \"Died\", \"Total\"]\n",
    "conTable.head()"
   ]
  },
  {
   "cell_type": "code",
   "execution_count": null,
   "id": "c83e0448",
   "metadata": {},
   "outputs": [],
   "source": []
  }
 ],
 "metadata": {
  "kernelspec": {
   "display_name": "Python 3 (ipykernel)",
   "language": "python",
   "name": "python3"
  },
  "language_info": {
   "codemirror_mode": {
    "name": "ipython",
    "version": 3
   },
   "file_extension": ".py",
   "mimetype": "text/x-python",
   "name": "python",
   "nbconvert_exporter": "python",
   "pygments_lexer": "ipython3",
   "version": "3.9.13"
  }
 },
 "nbformat": 4,
 "nbformat_minor": 5
}
