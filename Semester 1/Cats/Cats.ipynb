{
 "cells": [
  {
   "cell_type": "code",
   "execution_count": 8,
   "id": "e5ed48a6",
   "metadata": {},
   "outputs": [],
   "source": [
    "import pandas as pd"
   ]
  },
  {
   "cell_type": "code",
   "execution_count": 9,
   "id": "8f2eb78d",
   "metadata": {},
   "outputs": [],
   "source": [
    "df = pd.read_csv(\"cats.csv\")"
   ]
  },
  {
   "cell_type": "code",
   "execution_count": 14,
   "id": "38460f40",
   "metadata": {},
   "outputs": [
    {
     "data": {
      "text/plain": [
       "Index(['Unnamed: 0', 'Breed', 'Age (Years)', 'Weight (kg)', 'Color', 'Gender',\n",
       "       'ID'],\n",
       "      dtype='object')"
      ]
     },
     "execution_count": 14,
     "metadata": {},
     "output_type": "execute_result"
    }
   ],
   "source": [
    "df.columns"
   ]
  },
  {
   "cell_type": "code",
   "execution_count": 15,
   "id": "1b374db5",
   "metadata": {},
   "outputs": [],
   "source": [
    "df.drop(['Unnamed: 0'], inplace=True, axis=1)"
   ]
  },
  {
   "cell_type": "code",
   "execution_count": 25,
   "id": "2f607657",
   "metadata": {},
   "outputs": [
    {
     "data": {
      "text/html": [
       "<div>\n",
       "<style scoped>\n",
       "    .dataframe tbody tr th:only-of-type {\n",
       "        vertical-align: middle;\n",
       "    }\n",
       "\n",
       "    .dataframe tbody tr th {\n",
       "        vertical-align: top;\n",
       "    }\n",
       "\n",
       "    .dataframe thead th {\n",
       "        text-align: right;\n",
       "    }\n",
       "</style>\n",
       "<table border=\"1\" class=\"dataframe\">\n",
       "  <thead>\n",
       "    <tr style=\"text-align: right;\">\n",
       "      <th></th>\n",
       "      <th>Breed</th>\n",
       "      <th>Age (Years)</th>\n",
       "      <th>Weight (kg)</th>\n",
       "      <th>Color</th>\n",
       "      <th>Gender</th>\n",
       "      <th>ID</th>\n",
       "    </tr>\n",
       "  </thead>\n",
       "  <tbody>\n",
       "    <tr>\n",
       "      <th>0</th>\n",
       "      <td>Egyptian Mau</td>\n",
       "      <td>12</td>\n",
       "      <td>7</td>\n",
       "      <td>White</td>\n",
       "      <td>Male</td>\n",
       "      <td>181</td>\n",
       "    </tr>\n",
       "    <tr>\n",
       "      <th>1</th>\n",
       "      <td>Scottish Fold</td>\n",
       "      <td>17</td>\n",
       "      <td>8</td>\n",
       "      <td>Tortoiseshell</td>\n",
       "      <td>Male</td>\n",
       "      <td>907</td>\n",
       "    </tr>\n",
       "    <tr>\n",
       "      <th>2</th>\n",
       "      <td>Sphynx</td>\n",
       "      <td>9</td>\n",
       "      <td>9</td>\n",
       "      <td>Orange</td>\n",
       "      <td>Male</td>\n",
       "      <td>732</td>\n",
       "    </tr>\n",
       "    <tr>\n",
       "      <th>3</th>\n",
       "      <td>Oriental</td>\n",
       "      <td>6</td>\n",
       "      <td>7</td>\n",
       "      <td>Gray</td>\n",
       "      <td>Female</td>\n",
       "      <td>464</td>\n",
       "    </tr>\n",
       "    <tr>\n",
       "      <th>4</th>\n",
       "      <td>Savannah</td>\n",
       "      <td>14</td>\n",
       "      <td>7</td>\n",
       "      <td>Tortoiseshell</td>\n",
       "      <td>Female</td>\n",
       "      <td>451</td>\n",
       "    </tr>\n",
       "  </tbody>\n",
       "</table>\n",
       "</div>"
      ],
      "text/plain": [
       "           Breed  Age (Years)  Weight (kg)          Color  Gender   ID\n",
       "0   Egyptian Mau           12            7          White    Male  181\n",
       "1  Scottish Fold           17            8  Tortoiseshell    Male  907\n",
       "2         Sphynx            9            9         Orange    Male  732\n",
       "3       Oriental            6            7           Gray  Female  464\n",
       "4       Savannah           14            7  Tortoiseshell  Female  451"
      ]
     },
     "execution_count": 25,
     "metadata": {},
     "output_type": "execute_result"
    }
   ],
   "source": [
    "df.head()"
   ]
  },
  {
   "cell_type": "code",
   "execution_count": 30,
   "id": "c419b61f",
   "metadata": {},
   "outputs": [
    {
     "data": {
      "text/plain": [
       "'Egyptian Mau'"
      ]
     },
     "execution_count": 30,
     "metadata": {},
     "output_type": "execute_result"
    }
   ],
   "source": [
    "df.loc[0][\"Breed\"]"
   ]
  },
  {
   "cell_type": "code",
   "execution_count": 32,
   "id": "72d81449",
   "metadata": {},
   "outputs": [],
   "source": [
    "df.loc[len(df)] = [\"Orange Tabby\", 3, 5, \"Orange\", \"Male\", len(df)]"
   ]
  },
  {
   "cell_type": "code",
   "execution_count": 34,
   "id": "1408d45b",
   "metadata": {},
   "outputs": [],
   "source": [
    "df['Weight (lbs)'] = df['Weight (kg)'] * 2.205"
   ]
  },
  {
   "cell_type": "code",
   "execution_count": 36,
   "id": "c4d832c6",
   "metadata": {},
   "outputs": [
    {
     "data": {
      "text/html": [
       "<div>\n",
       "<style scoped>\n",
       "    .dataframe tbody tr th:only-of-type {\n",
       "        vertical-align: middle;\n",
       "    }\n",
       "\n",
       "    .dataframe tbody tr th {\n",
       "        vertical-align: top;\n",
       "    }\n",
       "\n",
       "    .dataframe thead th {\n",
       "        text-align: right;\n",
       "    }\n",
       "</style>\n",
       "<table border=\"1\" class=\"dataframe\">\n",
       "  <thead>\n",
       "    <tr style=\"text-align: right;\">\n",
       "      <th></th>\n",
       "      <th>Breed</th>\n",
       "      <th>Age (Years)</th>\n",
       "      <th>Weight (kg)</th>\n",
       "      <th>Color</th>\n",
       "      <th>Gender</th>\n",
       "      <th>ID</th>\n",
       "      <th>Weight (lbs)</th>\n",
       "    </tr>\n",
       "  </thead>\n",
       "  <tbody>\n",
       "    <tr>\n",
       "      <th>996</th>\n",
       "      <td>Burmese</td>\n",
       "      <td>4</td>\n",
       "      <td>5</td>\n",
       "      <td>Pointed</td>\n",
       "      <td>Female</td>\n",
       "      <td>339</td>\n",
       "      <td>11.025</td>\n",
       "    </tr>\n",
       "    <tr>\n",
       "      <th>997</th>\n",
       "      <td>Persian</td>\n",
       "      <td>19</td>\n",
       "      <td>9</td>\n",
       "      <td>Cream</td>\n",
       "      <td>Male</td>\n",
       "      <td>659</td>\n",
       "      <td>19.845</td>\n",
       "    </tr>\n",
       "    <tr>\n",
       "      <th>998</th>\n",
       "      <td>Persian</td>\n",
       "      <td>17</td>\n",
       "      <td>3</td>\n",
       "      <td>Bicolor</td>\n",
       "      <td>Female</td>\n",
       "      <td>124</td>\n",
       "      <td>6.615</td>\n",
       "    </tr>\n",
       "    <tr>\n",
       "      <th>999</th>\n",
       "      <td>Manx</td>\n",
       "      <td>18</td>\n",
       "      <td>8</td>\n",
       "      <td>Black</td>\n",
       "      <td>Male</td>\n",
       "      <td>226</td>\n",
       "      <td>17.640</td>\n",
       "    </tr>\n",
       "    <tr>\n",
       "      <th>1000</th>\n",
       "      <td>Orange Tabby</td>\n",
       "      <td>3</td>\n",
       "      <td>5</td>\n",
       "      <td>Orange</td>\n",
       "      <td>Male</td>\n",
       "      <td>1000</td>\n",
       "      <td>11.025</td>\n",
       "    </tr>\n",
       "  </tbody>\n",
       "</table>\n",
       "</div>"
      ],
      "text/plain": [
       "             Breed  Age (Years)  Weight (kg)    Color  Gender    ID  \\\n",
       "996        Burmese            4            5  Pointed  Female   339   \n",
       "997        Persian           19            9    Cream    Male   659   \n",
       "998        Persian           17            3  Bicolor  Female   124   \n",
       "999           Manx           18            8    Black    Male   226   \n",
       "1000  Orange Tabby            3            5   Orange    Male  1000   \n",
       "\n",
       "      Weight (lbs)  \n",
       "996         11.025  \n",
       "997         19.845  \n",
       "998          6.615  \n",
       "999         17.640  \n",
       "1000        11.025  "
      ]
     },
     "execution_count": 36,
     "metadata": {},
     "output_type": "execute_result"
    }
   ],
   "source": [
    "df.tail()"
   ]
  }
 ],
 "metadata": {
  "kernelspec": {
   "display_name": "Python 3 (ipykernel)",
   "language": "python",
   "name": "python3"
  },
  "language_info": {
   "codemirror_mode": {
    "name": "ipython",
    "version": 3
   },
   "file_extension": ".py",
   "mimetype": "text/x-python",
   "name": "python",
   "nbconvert_exporter": "python",
   "pygments_lexer": "ipython3",
   "version": "3.9.13"
  }
 },
 "nbformat": 4,
 "nbformat_minor": 5
}
